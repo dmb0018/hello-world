{
  "nbformat": 4,
  "nbformat_minor": 0,
  "metadata": {
    "colab": {
      "provenance": [],
      "include_colab_link": true
    },
    "kernelspec": {
      "name": "python3",
      "display_name": "Python 3"
    },
    "language_info": {
      "name": "python"
    }
  },
  "cells": [
    {
      "cell_type": "markdown",
      "metadata": {
        "id": "view-in-github",
        "colab_type": "text"
      },
      "source": [
        "<a href=\"https://colab.research.google.com/github/dmb0018/hello-world/blob/master/Copy_of_homework1_DavidBryant.ipynb\" target=\"_parent\"><img src=\"https://colab.research.google.com/assets/colab-badge.svg\" alt=\"Open In Colab\"/></a>"
      ]
    },
    {
      "cell_type": "markdown",
      "source": [
        "##**Use sympy to solve the following questions**\n",
        "**1. Solve the quadratic function $x^2+2x-8=0$**"
      ],
      "metadata": {
        "id": "MZjBN_HdrL3w"
      }
    },
    {
      "cell_type": "code",
      "source": [
        "import sympy as smp\n",
        "import numpy as np\n",
        "import matplotlib.pyplot as plt"
      ],
      "metadata": {
        "id": "deEemH-qrnCG"
      },
      "execution_count": null,
      "outputs": []
    },
    {
      "cell_type": "code",
      "source": [
        "x = smp.symbols('x', real=True)\n",
        "z = x**2 + 2*x - 8\n",
        "smp.solve(z,x)"
      ],
      "metadata": {
        "colab": {
          "base_uri": "https://localhost:8080/"
        },
        "id": "8NAfSHBxwCVW",
        "outputId": "84050b27-1422-44b3-c3cb-2d7ca19f4265"
      },
      "execution_count": null,
      "outputs": [
        {
          "output_type": "execute_result",
          "data": {
            "text/plain": [
              "[-4, 2]"
            ]
          },
          "metadata": {},
          "execution_count": 32
        }
      ]
    },
    {
      "cell_type": "markdown",
      "source": [
        "**2. What is the function f(x) which is equal to its\n",
        "derivative?**"
      ],
      "metadata": {
        "id": "osWHgKk5t9MA"
      }
    },
    {
      "cell_type": "markdown",
      "source": [
        "$e^x$"
      ],
      "metadata": {
        "id": "LRMztVybxKBq"
      }
    },
    {
      "cell_type": "markdown",
      "source": [
        "**3. Compute the area under $f(x)=x^3$ from x=0 to x=1**"
      ],
      "metadata": {
        "id": "P2b7XyAD5qf1"
      }
    },
    {
      "cell_type": "code",
      "source": [
        "x = smp.symbols('x')\n",
        "smp.integrate(smp.Pow(x,3),(x,0,1))"
      ],
      "metadata": {
        "id": "W1MNf_ptrqOK",
        "colab": {
          "base_uri": "https://localhost:8080/",
          "height": 51
        },
        "outputId": "cebb969f-27aa-4189-8b56-90407a3d732e"
      },
      "execution_count": null,
      "outputs": [
        {
          "output_type": "execute_result",
          "data": {
            "text/plain": [
              "1/4"
            ],
            "text/latex": "$\\displaystyle \\frac{1}{4}$"
          },
          "metadata": {},
          "execution_count": 28
        }
      ]
    },
    {
      "cell_type": "markdown",
      "source": [
        "\n",
        "**4. Calculate $\\displaystyle\\sum\\limits_{x=0}^\\infty \\left(\\frac{1}{x!}\\right)$**"
      ],
      "metadata": {
        "id": "X0WDytOW_0Ds"
      }
    },
    {
      "cell_type": "code",
      "source": [
        "from sympy.core import oo\n",
        "x = smp.symbols('x')\n",
        "smp.summation(1/(smp.factorial(x)),(x, 0,oo))\n"
      ],
      "metadata": {
        "id": "9j3BL9Tbrrhw",
        "colab": {
          "base_uri": "https://localhost:8080/",
          "height": 39
        },
        "outputId": "d48a6fd8-0e53-40c9-a1a3-d3acaf8cfd32"
      },
      "execution_count": null,
      "outputs": [
        {
          "output_type": "execute_result",
          "data": {
            "text/plain": [
              "E"
            ],
            "text/latex": "$\\displaystyle e$"
          },
          "metadata": {},
          "execution_count": 39
        }
      ]
    },
    {
      "cell_type": "markdown",
      "source": [
        "**5. Calculate $\\lim_{n \\rightarrow \\infty}(1+\\frac{1}{n})^n$**"
      ],
      "metadata": {
        "id": "GX1ZPTnTCtrV"
      }
    },
    {
      "cell_type": "code",
      "source": [
        "from sympy.core import oo\n",
        "n = smp.symbols('n')\n",
        "smp.limit(smp.Pow((1+1/n),n),n,oo)"
      ],
      "metadata": {
        "id": "9RuIX--BrwG_",
        "colab": {
          "base_uri": "https://localhost:8080/",
          "height": 39
        },
        "outputId": "d7d2263d-cf82-46c1-c0c2-608dae887e53"
      },
      "execution_count": null,
      "outputs": [
        {
          "output_type": "execute_result",
          "data": {
            "text/plain": [
              "E"
            ],
            "text/latex": "$\\displaystyle e$"
          },
          "metadata": {},
          "execution_count": 31
        }
      ]
    },
    {
      "cell_type": "markdown",
      "source": [
        "**6. flips the matrix through its diagonal $\\begin{bmatrix}2&-3&-8&7 \\\\-2&-1&2&-7\\\\ 1&0&-3&6 \\end{bmatrix}$**"
      ],
      "metadata": {
        "id": "PJ_WIHAZE9P2"
      }
    },
    {
      "cell_type": "code",
      "source": [
        "M = smp.symbols('M')\n",
        "M = smp.Matrix([[2, -3, -8, 7], [-2, -1, 2, -7], [1, 0, -3, 6]])\n",
        "# Define second matrix\n",
        "M2 = smp.symbols('M2')\n",
        "\n",
        "# Flip matrix through its diagonal using transpose function\n",
        "M2 = M.transpose()\n",
        "\n",
        "# Display M2\n",
        "M2"
      ],
      "metadata": {
        "id": "DjIgeasrrw1d",
        "colab": {
          "base_uri": "https://localhost:8080/",
          "height": 98
        },
        "outputId": "89d8d85b-b6b7-425b-dbc5-689cf85173fc"
      },
      "execution_count": null,
      "outputs": [
        {
          "output_type": "execute_result",
          "data": {
            "text/plain": [
              "Matrix([\n",
              "[ 2, -2,  1],\n",
              "[-3, -1,  0],\n",
              "[-8,  2, -3],\n",
              "[ 7, -7,  6]])"
            ],
            "text/latex": "$\\displaystyle \\left[\\begin{matrix}2 & -2 & 1\\\\-3 & -1 & 0\\\\-8 & 2 & -3\\\\7 & -7 & 6\\end{matrix}\\right]$"
          },
          "metadata": {},
          "execution_count": 30
        }
      ]
    },
    {
      "cell_type": "markdown",
      "source": [
        "**7. Row operations: We know the following matrix**"
      ],
      "metadata": {
        "id": "rLTC_3INOPdj"
      }
    },
    {
      "cell_type": "code",
      "source": [
        " M = smp.symbols('M')\n",
        " M = smp.eye(3)\n",
        " M"
      ],
      "metadata": {
        "colab": {
          "base_uri": "https://localhost:8080/",
          "height": 78
        },
        "id": "iWzjfQn0Ox_a",
        "outputId": "aff7c8f7-3ca5-4fcb-fdf3-f9e7c096054e"
      },
      "execution_count": null,
      "outputs": [
        {
          "output_type": "execute_result",
          "data": {
            "text/plain": [
              "Matrix([\n",
              "[1, 0, 0],\n",
              "[0, 1, 0],\n",
              "[0, 0, 1]])"
            ],
            "text/latex": "$\\displaystyle \\left[\\begin{matrix}1 & 0 & 0\\\\0 & 1 & 0\\\\0 & 0 & 1\\end{matrix}\\right]$"
          },
          "metadata": {},
          "execution_count": 29
        }
      ]
    },
    {
      "cell_type": "markdown",
      "source": [
        "**Do matrix row operations to R2 ← R2 + 3R1. (update Row 2 to R2+3*R1). Print the matrix**"
      ],
      "metadata": {
        "id": "v8pI_LiDjkBj"
      }
    },
    {
      "cell_type": "code",
      "source": [
        " M = smp.symbols('M')\n",
        " M = smp.eye(3)\n",
        " r1 = smp.symbols('r1')\n",
        " r1 = M.row(0)\n",
        " r2 = smp.symbols('r2')\n",
        " r2 = M.row(1)\n",
        " r2 = r2 + 3 * r1\n",
        " M.row_del(1)\n",
        " M = M.row_insert(1,r2)\n",
        " M"
      ],
      "metadata": {
        "id": "WpVLzCfHrzd5",
        "colab": {
          "base_uri": "https://localhost:8080/",
          "height": 78
        },
        "outputId": "024725de-c21d-4107-b8d3-00744d9dddbf"
      },
      "execution_count": null,
      "outputs": [
        {
          "output_type": "execute_result",
          "data": {
            "text/plain": [
              "Matrix([\n",
              "[1, 0, 0],\n",
              "[3, 1, 0],\n",
              "[0, 0, 1]])"
            ],
            "text/latex": "$\\displaystyle \\left[\\begin{matrix}1 & 0 & 0\\\\3 & 1 & 0\\\\0 & 0 & 1\\end{matrix}\\right]$"
          },
          "metadata": {},
          "execution_count": 28
        }
      ]
    },
    {
      "cell_type": "markdown",
      "source": [
        "**8.Find determinant of M**"
      ],
      "metadata": {
        "id": "lStKMbpWkZky"
      }
    },
    {
      "cell_type": "code",
      "source": [
        "# Copy and pasted from 7 to ensure the same matrix in order to solve this question correctly \n",
        "M = smp.symbols('M')\n",
        "M = smp.eye(3)\n",
        "r1 = smp.symbols('r1')\n",
        "r1 = M.row(0)\n",
        "r2 = smp.symbols('r2')\n",
        "r2 = M.row(1)\n",
        "r2 = r2 + 3 * r1\n",
        "M.row_del(1)\n",
        "M = M.row_insert(1,r2)\n",
        "\n",
        "# New function to solve problem\n",
        "M.det()"
      ],
      "metadata": {
        "id": "klYDCja9r1N3",
        "colab": {
          "base_uri": "https://localhost:8080/",
          "height": 37
        },
        "outputId": "e1060854-ce7b-4a1b-b1bc-20d8ebe62bc4"
      },
      "execution_count": null,
      "outputs": [
        {
          "output_type": "execute_result",
          "data": {
            "text/plain": [
              "1"
            ],
            "text/latex": "$\\displaystyle 1$"
          },
          "metadata": {},
          "execution_count": 27
        }
      ]
    },
    {
      "cell_type": "markdown",
      "source": [
        "**9.Find the following matrix's eigenvalue and eigen vector**"
      ],
      "metadata": {
        "id": "qaXra9fNlSDu"
      }
    },
    {
      "cell_type": "code",
      "source": [
        "M = smp.symbols('M')\n",
        "M = smp.Matrix( [[ 9, -2],\n",
        "[-2, 6]] )\n",
        "M.eigenvals()\n"
      ],
      "metadata": {
        "id": "W8cpvW7lljCv",
        "colab": {
          "base_uri": "https://localhost:8080/"
        },
        "outputId": "1fab2c3d-a8a2-4beb-caf4-b2bf43cd3701"
      },
      "execution_count": null,
      "outputs": [
        {
          "output_type": "execute_result",
          "data": {
            "text/plain": [
              "{10: 1, 5: 1}"
            ]
          },
          "metadata": {},
          "execution_count": 25
        }
      ]
    },
    {
      "cell_type": "code",
      "source": [
        "M.eigenvects()"
      ],
      "metadata": {
        "colab": {
          "base_uri": "https://localhost:8080/"
        },
        "id": "oyekeTEIVBH_",
        "outputId": "364af21e-b755-49c5-8327-751d91822965"
      },
      "execution_count": null,
      "outputs": [
        {
          "output_type": "execute_result",
          "data": {
            "text/plain": [
              "[(5,\n",
              "  1,\n",
              "  [Matrix([\n",
              "   [1/2],\n",
              "   [  1]])]),\n",
              " (10,\n",
              "  1,\n",
              "  [Matrix([\n",
              "   [-2],\n",
              "   [ 1]])])]"
            ]
          },
          "metadata": {},
          "execution_count": 26
        }
      ]
    },
    {
      "cell_type": "markdown",
      "source": [
        "**10. Implement the Predator-prey model in python**\n",
        "\n",
        "Suppose fish starts at 10 hundreds, bears starts at 1 hundred\n",
        "\n",
        "alpha = 1.1\n",
        "\n",
        "beta = 0.4\n",
        "\n",
        "delta = 0.1\n",
        "\n",
        "gamma = 0.4\n",
        "\n",
        "draw the plots(bear-time, fish-time)\n",
        "\n",
        "t = np.linspace(0,50,num=1000)\n"
      ],
      "metadata": {
        "id": "T0NeZ4Hwo1Uy"
      }
    },
    {
      "cell_type": "code",
      "source": [
        "# import odeint from scipy.integrate\n",
        "from scipy.integrate import odeint\n",
        "\n",
        "# Initial variables\n",
        "x0 = 1000\n",
        "y0 = 100\n",
        "S0 = (x0,y0)\n",
        "\n",
        "# Constants\n",
        "alpha = 1.1\n",
        "beta = 0.4\n",
        "delta = 0.1\n",
        "gamma = 0.4 \n",
        "\n",
        "# Function that provides dxdt and dydt\n",
        "def dSdx(S,t):\n",
        "  x, y = S\n",
        "  return [alpha*x - beta*x*y,\n",
        "          delta*x*y - gamma*y]\n",
        "\n",
        "\n",
        "#Create time array\n",
        "t = smp.symbols('t')\n",
        "t = np.linspace(0,50,num = 1000)\n",
        "\n",
        "#Solve function and take out the solution for the bears population and the fish population\n",
        "sol = odeint(dSdx, S0, t)\n",
        "xsol = sol.T[0]\n",
        "ysol = sol.T[1]\n",
        "\n",
        "#Plot the Solutions\n",
        "plt.plot(t, xsol,'b-',label='Fish in population')\n",
        "plt.plot(t, ysol,'r--',label='Bears in population')\n",
        "plt.ylabel('Number of Animals')\n",
        "plt.xlabel('Time')\n",
        "plt.legend(loc='best')\n",
        "plt.show()\n",
        "\n",
        "## I thought/think the solution did not make sense. I tried following mutliple different guides to solving coupled differential equations with sympy\n",
        "## and could not get a solution that looked more like what I was expecting."
      ],
      "metadata": {
        "colab": {
          "base_uri": "https://localhost:8080/",
          "height": 465
        },
        "id": "n18K6yRnqVm8",
        "outputId": "64bc0185-76f9-45e7-ed64-a1bac799846e"
      },
      "execution_count": null,
      "outputs": [
        {
          "output_type": "display_data",
          "data": {
            "text/plain": [
              "<Figure size 640x480 with 1 Axes>"
            ],
            "image/png": "[encoded data removed]"
          },
          "metadata": {}
        }
      ]
    },
    {
      "cell_type": "code",
      "source": [],
      "metadata": {
        "id": "Q9GHDOfQGnuf"
      },
      "execution_count": null,
      "outputs": []
    }
  ]
}